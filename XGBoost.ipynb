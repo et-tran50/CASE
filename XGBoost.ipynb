{
  "nbformat": 4,
  "nbformat_minor": 0,
  "metadata": {
    "colab": {
      "provenance": [],
      "machine_shape": "hm",
      "gpuType": "L4",
      "authorship_tag": "ABX9TyOhPkG/OxeTfW4k3UY52mWE",
      "include_colab_link": true
    },
    "kernelspec": {
      "name": "python3",
      "display_name": "Python 3"
    },
    "language_info": {
      "name": "python"
    },
    "accelerator": "GPU"
  },
  "cells": [
    {
      "cell_type": "markdown",
      "metadata": {
        "id": "view-in-github",
        "colab_type": "text"
      },
      "source": [
        "<a href=\"https://colab.research.google.com/github/et-tran50/CASE/blob/main/XGBoost.ipynb\" target=\"_parent\"><img src=\"https://colab.research.google.com/assets/colab-badge.svg\" alt=\"Open In Colab\"/></a>"
      ]
    },
    {
      "cell_type": "markdown",
      "source": [
        "# Imports"
      ],
      "metadata": {
        "id": "CuCXH0PIuH4z"
      }
    },
    {
      "cell_type": "code",
      "execution_count": 49,
      "metadata": {
        "id": "BAmuAvqsGEdY"
      },
      "outputs": [],
      "source": [
        "from xgboost import XGBClassifier\n",
        "import pandas as pd\n",
        "import numpy as np\n",
        "import matplotlib.pyplot as plt\n",
        "import seaborn as sns\n",
        "from sklearn.impute import KNNImputer\n",
        "from sklearn.preprocessing import StandardScaler\n",
        "from sklearn.model_selection import train_test_split, GridSearchCV\n",
        "from sklearn.linear_model import LogisticRegression\n",
        "from sklearn.metrics import accuracy_score, classification_report, confusion_matrix\n",
        "from sklearn.impute import SimpleImputer\n",
        "from sklearn.experimental import enable_iterative_imputer\n",
        "from sklearn.impute import IterativeImputer\n",
        "from sklearn.metrics import classification_report, confusion_matrix, precision_score, recall_score, f1_score\n",
        "import shap\n",
        "from sklearn.metrics import roc_auc_score, precision_recall_curve, roc_curve\n",
        "from sklearn.metrics import precision_recall_fscore_support\n",
        "from imblearn.over_sampling import SMOTE"
      ]
    },
    {
      "cell_type": "markdown",
      "source": [
        "# Data Loading and Processing"
      ],
      "metadata": {
        "id": "pnOrg6rBuLGV"
      }
    },
    {
      "cell_type": "code",
      "source": [
        "train_data = pd.read_csv('/content/Training Dataset A_R-384922_Candidate Attach #1_PresSE_SRF #1141.csv')\n",
        "eval_data = pd.read_csv('/content/Evaluation Dataset B_R-384922_Candidate Attach #2_PresSE_SRF #1141.csv')"
      ],
      "metadata": {
        "id": "s1EtMTyBGQ0m"
      },
      "execution_count": 50,
      "outputs": []
    },
    {
      "cell_type": "code",
      "source": [
        "# Separate features and target variable\n",
        "y = train_data['aprv_flag']  # Keep target separately\n",
        "X = train_data.drop(columns=['aprv_flag'])  # Drop target column\n",
        "categorical_cols = X.select_dtypes(include=['object']).columns\n",
        "X_encoded = pd.get_dummies(X, columns=categorical_cols, drop_first=False)"
      ],
      "metadata": {
        "id": "tMoKc417GSJS"
      },
      "execution_count": 51,
      "outputs": []
    },
    {
      "cell_type": "code",
      "source": [
        "X_train, X_test, y_train, y_test = train_test_split(X_encoded, y, test_size=0.3, stratify=y, random_state=42)\n"
      ],
      "metadata": {
        "id": "AwLPeBoeGVCG"
      },
      "execution_count": 52,
      "outputs": []
    },
    {
      "cell_type": "markdown",
      "source": [
        "# Data Summary"
      ],
      "metadata": {
        "id": "mOc4FVmduU1K"
      }
    },
    {
      "cell_type": "code",
      "source": [
        "print(X.info())"
      ],
      "metadata": {
        "colab": {
          "base_uri": "https://localhost:8080/"
        },
        "id": "Rzb2qJuVuRrt",
        "outputId": "772da468-7809-4bba-e63b-e93805042356"
      },
      "execution_count": 53,
      "outputs": [
        {
          "output_type": "stream",
          "name": "stdout",
          "text": [
            "<class 'pandas.core.frame.DataFrame'>\n",
            "RangeIndex: 21606 entries, 0 to 21605\n",
            "Data columns (total 42 columns):\n",
            " #   Column                            Non-Null Count  Dtype  \n",
            "---  ------                            --------------  -----  \n",
            " 0   fico                              21431 non-null  float64\n",
            " 1   amtfinanced_1req                  21606 non-null  float64\n",
            " 2   collateral_dlrinput_newused_1req  21606 non-null  object \n",
            " 3   pti_1req                          21603 non-null  float64\n",
            " 4   ltv_1req                          21601 non-null  float64\n",
            " 5   p12_reh7120_a                     19694 non-null  float64\n",
            " 6   p12_bcx7110_a                     17917 non-null  float64\n",
            " 7   p12_all7170_a                     20943 non-null  float64\n",
            " 8   p12_aut7110_a                     11070 non-null  float64\n",
            " 9   p12_all7120_a                     21226 non-null  float64\n",
            " 10  p12_all7937_a                     21522 non-null  float64\n",
            " 11  p12_bcc8120_a                     19752 non-null  float64\n",
            " 12  p12_iln7410_a                     19364 non-null  float64\n",
            " 13  p12_rev1300_a                     20810 non-null  float64\n",
            " 14  p12_all8150_a                     9207 non-null   float64\n",
            " 15  p12_bca8370_a                     20021 non-null  float64\n",
            " 16  p12_all7517_a                     21262 non-null  float64\n",
            " 17  p12_iln8220_a                     19676 non-null  float64\n",
            " 18  p12_all6250_a                     21606 non-null  int64  \n",
            " 19  p12_aua8151_a                     3792 non-null   float64\n",
            " 20  p12_rtr7110_a                     12331 non-null  float64\n",
            " 21  p12_pil8120_a                     11857 non-null  float64\n",
            " 22  p12_aua0300_a                     21606 non-null  int64  \n",
            " 23  p12_all7938_a                     21538 non-null  float64\n",
            " 24  p12_bcc3456_a                     19051 non-null  float64\n",
            " 25  p12_all8370_a                     21606 non-null  int64  \n",
            " 26  p12_aua8220_a                     17194 non-null  float64\n",
            " 27  p12_als1300_a                     21491 non-null  float64\n",
            " 28  p12_aua6200_a                     17194 non-null  float64\n",
            " 29  p12_all2427_a                     21606 non-null  int64  \n",
            " 30  p12_alm6200_a                     21606 non-null  int64  \n",
            " 31  p12_all6971_a                     21562 non-null  float64\n",
            " 32  clntr9437_a                       8952 non-null   float64\n",
            " 33  clact9429_a                       8952 non-null   float64\n",
            " 34  clall5010_a                       2390 non-null   float64\n",
            " 35  clall2434_a                       719 non-null    float64\n",
            " 36  cloil0214_a                       78 non-null     float64\n",
            " 37  cltra4405_a                       787 non-null    float64\n",
            " 38  clact9428_a                       8952 non-null   float64\n",
            " 39  bad_flag                          21348 non-null  float64\n",
            " 40  Gender                            21606 non-null  object \n",
            " 41  Race                              21606 non-null  object \n",
            "dtypes: float64(34), int64(5), object(3)\n",
            "memory usage: 6.9+ MB\n",
            "None\n"
          ]
        }
      ]
    },
    {
      "cell_type": "code",
      "source": [
        "# Mean, median, standard deviation, min, max.\n",
        "print(X.describe())"
      ],
      "metadata": {
        "colab": {
          "base_uri": "https://localhost:8080/"
        },
        "id": "Cceg8XKYuar0",
        "outputId": "433dd1a5-1e0c-4cd7-fd41-1e5e93b31ec9"
      },
      "execution_count": 54,
      "outputs": [
        {
          "output_type": "stream",
          "name": "stdout",
          "text": [
            "               fico  amtfinanced_1req      pti_1req      ltv_1req  \\\n",
            "count  21431.000000      21606.000000  21603.000000  21601.000000   \n",
            "mean     703.643087      29870.867118      9.025000    101.188938   \n",
            "std       82.786470      15311.300550      4.803567     23.245966   \n",
            "min      372.000000          0.000000      0.080000     10.350000   \n",
            "25%      644.000000      19370.000000      5.930000     90.520000   \n",
            "50%      701.000000      26806.000000      8.590000    103.470000   \n",
            "75%      766.000000      36931.250000     11.580000    113.800000   \n",
            "max      894.000000     189729.000000    207.090000    955.260000   \n",
            "\n",
            "       p12_reh7120_a  p12_bcx7110_a  p12_all7170_a  p12_aut7110_a  \\\n",
            "count   19694.000000   17917.000000   20943.000000   11070.000000   \n",
            "mean       51.866406      35.863370       3.597288      66.256459   \n",
            "std        37.352331      33.225946      14.888786      24.470168   \n",
            "min         0.000000       0.000000       0.000000       0.000000   \n",
            "25%        16.000000       6.000000       0.000000      50.000000   \n",
            "50%        52.000000      26.000000       0.000000      72.000000   \n",
            "75%        88.000000      63.000000       0.000000      86.000000   \n",
            "max       415.000000     290.000000     100.000000     152.000000   \n",
            "\n",
            "       p12_all7120_a  p12_all7937_a  ...  p12_alm6200_a  p12_all6971_a  \\\n",
            "count   21226.000000   21522.000000  ...   21606.000000   21562.000000   \n",
            "mean       85.351362      86.358889  ...     149.763445      58.454271   \n",
            "std        37.630013      22.466074  ...     181.349594     133.394966   \n",
            "min         0.000000       0.000000  ...       1.000000       0.000000   \n",
            "25%        73.000000      80.000000  ...       1.000000       1.000000   \n",
            "50%        94.000000     100.000000  ...      30.000000       1.000000   \n",
            "75%       100.000000     100.000000  ...     400.000000       1.000000   \n",
            "max       711.000000     100.000000  ...     400.000000     400.000000   \n",
            "\n",
            "       clntr9437_a  clact9429_a   clall5010_a  clall2434_a  cloil0214_a  \\\n",
            "count  8952.000000  8952.000000   2390.000000   719.000000    78.000000   \n",
            "mean      1.391309     2.264187   2427.658996     0.020862     0.217949   \n",
            "std       3.433233     6.929704   4421.540329     0.143023     0.415525   \n",
            "min       0.000000     0.000000      0.000000     0.000000     0.000000   \n",
            "25%       0.000000     0.000000      0.000000     0.000000     0.000000   \n",
            "50%       0.000000     0.000000      0.000000     0.000000     0.000000   \n",
            "75%       1.000000     2.000000   2798.250000     0.000000     0.000000   \n",
            "max      73.000000   178.000000  33549.000000     1.000000     1.000000   \n",
            "\n",
            "       cltra4405_a  clact9428_a      bad_flag  \n",
            "count   787.000000  8952.000000  21348.000000  \n",
            "mean      0.016518     0.614946      0.044875  \n",
            "std       0.216334     2.287114      0.207035  \n",
            "min       0.000000     0.000000      0.000000  \n",
            "25%       0.000000     0.000000      0.000000  \n",
            "50%       0.000000     0.000000      0.000000  \n",
            "75%       0.000000     0.000000      0.000000  \n",
            "max       3.000000    69.000000      1.000000  \n",
            "\n",
            "[8 rows x 39 columns]\n"
          ]
        }
      ]
    },
    {
      "cell_type": "code",
      "source": [
        "# Percentage of missing data for each column.\n",
        "print(X.isnull().sum() / len(X) * 100)"
      ],
      "metadata": {
        "colab": {
          "base_uri": "https://localhost:8080/"
        },
        "id": "JsXaNP0xucYD",
        "outputId": "dd22b8ea-275d-408b-f412-4b039d937e2d"
      },
      "execution_count": 55,
      "outputs": [
        {
          "output_type": "stream",
          "name": "stdout",
          "text": [
            "fico                                 0.809960\n",
            "amtfinanced_1req                     0.000000\n",
            "collateral_dlrinput_newused_1req     0.000000\n",
            "pti_1req                             0.013885\n",
            "ltv_1req                             0.023142\n",
            "p12_reh7120_a                        8.849394\n",
            "p12_bcx7110_a                       17.073961\n",
            "p12_all7170_a                        3.068592\n",
            "p12_aut7110_a                       48.764232\n",
            "p12_all7120_a                        1.758771\n",
            "p12_all7937_a                        0.388781\n",
            "p12_bcc8120_a                        8.580950\n",
            "p12_iln7410_a                       10.376747\n",
            "p12_rev1300_a                        3.684162\n",
            "p12_all8150_a                       57.386837\n",
            "p12_bca8370_a                        7.335925\n",
            "p12_all7517_a                        1.592150\n",
            "p12_iln8220_a                        8.932704\n",
            "p12_all6250_a                        0.000000\n",
            "p12_aua8151_a                       82.449320\n",
            "p12_rtr7110_a                       42.927890\n",
            "p12_pil8120_a                       45.121725\n",
            "p12_aua0300_a                        0.000000\n",
            "p12_all7938_a                        0.314727\n",
            "p12_bcc3456_a                       11.825419\n",
            "p12_all8370_a                        0.000000\n",
            "p12_aua8220_a                       20.420254\n",
            "p12_als1300_a                        0.532260\n",
            "p12_aua6200_a                       20.420254\n",
            "p12_all2427_a                        0.000000\n",
            "p12_alm6200_a                        0.000000\n",
            "p12_all6971_a                        0.203647\n",
            "clntr9437_a                         58.567065\n",
            "clact9429_a                         58.567065\n",
            "clall5010_a                         88.938258\n",
            "clall2434_a                         96.672221\n",
            "cloil0214_a                         99.638989\n",
            "cltra4405_a                         96.357493\n",
            "clact9428_a                         58.567065\n",
            "bad_flag                             1.194113\n",
            "Gender                               0.000000\n",
            "Race                                 0.000000\n",
            "dtype: float64\n"
          ]
        }
      ]
    },
    {
      "cell_type": "markdown",
      "source": [
        "# XGBoost\n",
        "\n",
        "We employ XGboost to learn our dataset, cross validating to get the best parameters to train our models with."
      ],
      "metadata": {
        "id": "kJ1qXECJue_D"
      }
    },
    {
      "cell_type": "code",
      "source": [
        "param_grid = {\n",
        "    'max_depth': [4, 6, 8],\n",
        "    'min_child_weight': [1, 3, 5],\n",
        "    'gamma': [0, 0.1, 0.5],\n",
        "    'subsample': [0.8, 1.0],\n",
        "    'colsample_bytree': [0.8, 1.0],\n",
        "    'scale_pos_weight': [len(y_train[y_train == 0]) / len(y_train[y_train == 1])]\n",
        "}\n",
        "\n",
        "# GridSearchCV\n",
        "grid_search = GridSearchCV(estimator=XGBClassifier(learning_rate=0.1, n_estimators=100, random_state=42),\n",
        "                           param_grid=param_grid, scoring='precision', cv=5, verbose=1)\n",
        "grid_search.fit(X_train, y_train)\n",
        "\n",
        "# Best model\n",
        "best_model = grid_search.best_estimator_\n",
        "y_pred_best = best_model.predict(X_test)"
      ],
      "metadata": {
        "colab": {
          "base_uri": "https://localhost:8080/"
        },
        "id": "2szsvZBaGZHL",
        "outputId": "8088cd60-041d-4eef-bbc4-951b92de6bed"
      },
      "execution_count": 56,
      "outputs": [
        {
          "output_type": "stream",
          "name": "stdout",
          "text": [
            "Fitting 5 folds for each of 108 candidates, totalling 540 fits\n"
          ]
        }
      ]
    },
    {
      "cell_type": "markdown",
      "source": [
        "# Accuracy Report"
      ],
      "metadata": {
        "id": "68DmzKxOu5XJ"
      }
    },
    {
      "cell_type": "code",
      "source": [
        "validation_accuracy = accuracy_score(y_test, y_pred_best)\n",
        "roc_auc = roc_auc_score(y_test, y_pred_best)\n",
        "print(f\"Validation Accuracy: {validation_accuracy:.4f}\")\n",
        "print(f\"Validation AUROC: {roc_auc:.4f}\")"
      ],
      "metadata": {
        "colab": {
          "base_uri": "https://localhost:8080/"
        },
        "id": "dOHGaWNsu8Jy",
        "outputId": "e2ba512f-9ba5-416a-9ad6-63f7a9b5d830"
      },
      "execution_count": 57,
      "outputs": [
        {
          "output_type": "stream",
          "name": "stdout",
          "text": [
            "Validation Accuracy: 0.8269\n",
            "Validation AUROC: 0.8114\n"
          ]
        }
      ]
    },
    {
      "cell_type": "code",
      "source": [
        "print(\"Classification Report for Tuned Model:\")\n",
        "print(classification_report(y_test, y_pred_best))"
      ],
      "metadata": {
        "colab": {
          "base_uri": "https://localhost:8080/"
        },
        "id": "HU2xEfHMvLx8",
        "outputId": "f2539439-4b0b-4f26-962e-f5c90f41932f"
      },
      "execution_count": 58,
      "outputs": [
        {
          "output_type": "stream",
          "name": "stdout",
          "text": [
            "Classification Report for Tuned Model:\n",
            "              precision    recall  f1-score   support\n",
            "\n",
            "           0       0.64      0.78      0.70      1696\n",
            "           1       0.92      0.84      0.88      4786\n",
            "\n",
            "    accuracy                           0.83      6482\n",
            "   macro avg       0.78      0.81      0.79      6482\n",
            "weighted avg       0.84      0.83      0.83      6482\n",
            "\n"
          ]
        }
      ]
    },
    {
      "cell_type": "code",
      "source": [
        "# Get predicted probabilities for the positive class\n",
        "y_pred_proba_best = best_model.predict_proba(X_test)[:, 1]\n",
        "\n",
        "# Calculate precision, recall, and thresholds\n",
        "precisions, recalls, thresholds = precision_recall_curve(y_test, y_pred_proba_best)\n",
        "\n",
        "# Find the intersection point where precision equals recall\n",
        "differences = np.abs(precisions[:-1] - recalls[:-1])  # Exclude the last threshold\n",
        "intersection_index = np.argmin(differences)  # Index of the closest point\n",
        "intersection_threshold = thresholds[intersection_index]\n",
        "print(f\"Intersection Threshold: {intersection_threshold:.4f}\")\n",
        "print(f\"Precision: {precisions[intersection_index]:.4f}, Recall: {recalls[intersection_index]:.4f}\")\n",
        "\n",
        "# Plot the Precision-Recall Curve\n",
        "plt.plot(thresholds, precisions[:-1], label=\"Precision\")\n",
        "plt.plot(thresholds, recalls[:-1], label=\"Recall\")\n",
        "plt.axvline(x=intersection_threshold, color=\"red\", linestyle=\"--\", label=\"Intersection\")\n",
        "plt.xlabel(\"Threshold\")\n",
        "plt.ylabel(\"Score\")\n",
        "plt.legend()\n",
        "plt.title(\"Precision-Recall Curve with Intersection\")\n",
        "plt.show()"
      ],
      "metadata": {
        "colab": {
          "base_uri": "https://localhost:8080/",
          "height": 507
        },
        "id": "ebyLYJY8sX7V",
        "outputId": "f5b37ff3-ce83-4f10-a159-4eeaf28bb150"
      },
      "execution_count": 59,
      "outputs": [
        {
          "output_type": "stream",
          "name": "stdout",
          "text": [
            "Intersection Threshold: 0.4082\n",
            "Precision: 0.8993, Recall: 0.8993\n"
          ]
        },
        {
          "output_type": "display_data",
          "data": {
            "text/plain": [
              "<Figure size 640x480 with 1 Axes>"
            ],
            "image/png": "[encoded data removed]"
          },
          "metadata": {}
        }
      ]
    },
    {
      "cell_type": "code",
      "source": [
        "# Get predicted probabilities\n",
        "y_probs = best_model.predict_proba(X_test)[:, 1]\n",
        "\n",
        "# Set a custom threshold\n",
        "y_pred_custom = (y_probs >= intersection_threshold).astype(int)\n",
        "\n",
        "precision = precision_score(y_test, y_pred_custom)\n",
        "recall = recall_score(y_test, y_pred_custom)\n",
        "f1 = f1_score(y_test, y_pred_custom)\n",
        "\n",
        "print(f\"Precision: {precision:.2f}\")\n",
        "print(f\"Recall: {recall:.2f}\")\n",
        "print(f\"F1-Score: {f1:.2f}\")\n",
        "\n",
        "# Evaluate performance\n",
        "print(f\"Classification Report with Best Threshold {intersection_threshold}:\")\n",
        "print(classification_report(y_test, y_pred_custom))"
      ],
      "metadata": {
        "colab": {
          "base_uri": "https://localhost:8080/"
        },
        "id": "Xj7yXN5ehmvl",
        "outputId": "ee87c3ed-6580-4dba-c5b1-53d90f313774"
      },
      "execution_count": 60,
      "outputs": [
        {
          "output_type": "stream",
          "name": "stdout",
          "text": [
            "Precision: 0.90\n",
            "Recall: 0.90\n",
            "F1-Score: 0.90\n",
            "Classification Report with Best Threshold 0.4082378149032593:\n",
            "              precision    recall  f1-score   support\n",
            "\n",
            "           0       0.72      0.72      0.72      1696\n",
            "           1       0.90      0.90      0.90      4786\n",
            "\n",
            "    accuracy                           0.85      6482\n",
            "   macro avg       0.81      0.81      0.81      6482\n",
            "weighted avg       0.85      0.85      0.85      6482\n",
            "\n"
          ]
        }
      ]
    },
    {
      "cell_type": "markdown",
      "source": [
        "# Evaluation"
      ],
      "metadata": {
        "id": "K1ZLOVjyvQQ2"
      }
    },
    {
      "cell_type": "code",
      "source": [
        "from sklearn.metrics import accuracy_score\n",
        "\n",
        "# Apply the same preprocessing steps to Dataset B\n",
        "X_eval = eval_data.drop(columns=['aprv_flag'])  # Separate features and target\n",
        "y_eval = eval_data['aprv_flag']\n",
        "X_eval_encoded = pd.get_dummies(X_eval, columns=categorical_cols, drop_first=False)\n",
        "X_eval_encoded = X_eval_encoded.reindex(columns=X_encoded.columns, fill_value=0)\n",
        "\n",
        "# Predict probabilities on the evaluation dataset\n",
        "y_eval_proba = best_model.predict_proba(X_eval_encoded)[:, 1]\n",
        "\n",
        "# Apply custom threshold\n",
        "y_eval_pred_custom = (y_eval_proba >= intersection_threshold).astype(int)\n",
        "\n",
        "# Calculate evaluation accuracy with the custom threshold\n",
        "evaluation_accuracy_custom = accuracy_score(y_eval, y_eval_pred_custom)\n",
        "print(f\"Evaluation Accuracy with Custom Threshold: {evaluation_accuracy_custom:.4f}\")"
      ],
      "metadata": {
        "colab": {
          "base_uri": "https://localhost:8080/"
        },
        "id": "6_ihTi2Es8N9",
        "outputId": "f897345a-6cfc-4442-d736-58a365fb7eba"
      },
      "execution_count": 61,
      "outputs": [
        {
          "output_type": "stream",
          "name": "stdout",
          "text": [
            "Evaluation Accuracy with Custom Threshold: 0.8439\n"
          ]
        }
      ]
    },
    {
      "cell_type": "markdown",
      "source": [
        "Evaluation on Minority Class"
      ],
      "metadata": {
        "id": "EvQH8jKTvV_Y"
      }
    },
    {
      "cell_type": "code",
      "source": [
        "# Filter for the minority class\n",
        "minority_indices = (y_eval == 0)\n",
        "y_eval_minority = y_eval[minority_indices]\n",
        "y_eval_pred_minority = y_eval_pred_custom[minority_indices]\n",
        "\n",
        "accuracy_minority = (y_eval_minority == y_eval_pred_minority).mean()\n",
        "print(f\"Accuracy for the Minority Class: {accuracy_minority:.2%}\")"
      ],
      "metadata": {
        "colab": {
          "base_uri": "https://localhost:8080/"
        },
        "id": "eh4Gt8Olthap",
        "outputId": "8e6d3dcb-ff9a-44bd-dafd-f836219da781"
      },
      "execution_count": 62,
      "outputs": [
        {
          "output_type": "stream",
          "name": "stdout",
          "text": [
            "Accuracy for the Minority Class: 72.06%\n"
          ]
        }
      ]
    },
    {
      "cell_type": "markdown",
      "source": [
        "# Question 1\n",
        "\n",
        "*   Q: Suppose an applicant is rejected by our model, how would we explain why?\n",
        "\n",
        "*   A: SHAP values decompose the prediction for an individual into contributions from each feature, helping us explain why the model made a specific decision.\n",
        "\n",
        "\n"
      ],
      "metadata": {
        "id": "A9kc_MXWvYOX"
      }
    },
    {
      "cell_type": "code",
      "source": [
        "explainer = shap.TreeExplainer(best_model)\n",
        "# Calculate and plot SHAP values for the test set\n",
        "shap_values = explainer.shap_values(X_test)\n",
        "shap.summary_plot(shap_values, X_test, feature_names=X_encoded.columns, plot_type=\"bar\")"
      ],
      "metadata": {
        "colab": {
          "base_uri": "https://localhost:8080/",
          "height": 957
        },
        "id": "s00clq46HS5h",
        "outputId": "5127ec17-ba61-4401-d58d-1d59348ee585"
      },
      "execution_count": 63,
      "outputs": [
        {
          "output_type": "display_data",
          "data": {
            "text/plain": [
              "<Figure size 800x950 with 1 Axes>"
            ],
            "image/png": "[encoded data removed]"
          },
          "metadata": {}
        }
      ]
    },
    {
      "cell_type": "markdown",
      "source": [
        "# Q2\n",
        "\n",
        "\n",
        "1.   Q: Do female customers have a lower approval rate in our model?\n",
        "2.   A: In our model, female customers do have a lower approval rate, though the results are not statistically significant.\n",
        "\n"
      ],
      "metadata": {
        "id": "5ofH1_Rwvb3n"
      }
    },
    {
      "cell_type": "code",
      "source": [
        "female_customers = X_test[X_test['Gender_Female'] == True]\n",
        "female_labels = y_test[X_test['Gender_Female'] == True]\n",
        "male_customers = X_test[X_test['Gender_Male'] == True]\n",
        "male_labels = y_test[X_test['Gender_Male'] == True]\n",
        "\n",
        "# Overall dataset predictions\n",
        "overall_predictions = best_model.predict(X_test)\n",
        "\n",
        "# Female-specific predictions\n",
        "female_predictions = best_model.predict(female_customers)\n",
        "\n",
        "# Female-specific predictions\n",
        "male_predictions = best_model.predict(male_customers)"
      ],
      "metadata": {
        "id": "07wQnTEc4cMS"
      },
      "execution_count": 64,
      "outputs": []
    },
    {
      "cell_type": "code",
      "source": [
        "# Overall approval rate. We can sum since the entries are either 0 or 1\n",
        "overall_approval_rate = sum(overall_predictions) / len(overall_predictions)\n",
        "\n",
        "# approval rates\n",
        "female_approval_rate = sum(female_predictions) / len(female_predictions)\n",
        "male_approval_rate = sum(male_predictions) / len(male_predictions)\n",
        "\n",
        "print(f\"Overall Approval Rate: {overall_approval_rate:.2%}\")\n",
        "print(f\"Female Approval Rate: {female_approval_rate:.2%}\")\n",
        "print(f\"Male Approval Rate: {male_approval_rate:.2%}\")\n"
      ],
      "metadata": {
        "colab": {
          "base_uri": "https://localhost:8080/"
        },
        "id": "PM-HDPFp4wQv",
        "outputId": "b405103a-f372-4e08-9b36-273545996ef8"
      },
      "execution_count": 65,
      "outputs": [
        {
          "output_type": "stream",
          "name": "stdout",
          "text": [
            "Overall Approval Rate: 68.10%\n",
            "Female Approval Rate: 68.82%\n",
            "Male Approval Rate: 67.45%\n"
          ]
        }
      ]
    },
    {
      "cell_type": "markdown",
      "source": [
        "We choose to perform $Z$-test over chi-squared testing, as it is more geniune to compare female vs male approval rates as our hypothesis, moreso than female vs all, since the original dataset has an undefined entry for gender (could be either)."
      ],
      "metadata": {
        "id": "JKuWVglmvhKs"
      }
    },
    {
      "cell_type": "code",
      "source": [
        "from statsmodels.stats.proportion import proportions_ztest\n",
        "\n",
        "# Total approvals for females and males\n",
        "female_approvals = (female_predictions == 1).sum()\n",
        "male_approvals = (male_predictions == 1).sum()\n",
        "\n",
        "# Total observations for females and males\n",
        "female_total = len(female_predictions)\n",
        "male_total = len(male_predictions)\n",
        "\n",
        "# Perform the two-proportion Z-test\n",
        "count = [female_approvals, male_approvals]\n",
        "nobs = [female_total, male_total]\n",
        "stat, p_value = proportions_ztest(count, nobs)\n",
        "\n",
        "# Output results\n",
        "print(f\"Z-Statistic: {stat:.4f}, p-value: {p_value:.4f}\")\n",
        "if p_value < 0.05:\n",
        "    print(\"The difference in approval rates is statistically significant.\")\n",
        "else:\n",
        "    print(\"The difference in approval rates is not statistically significant.\")\n"
      ],
      "metadata": {
        "colab": {
          "base_uri": "https://localhost:8080/"
        },
        "id": "Yan7E_9Cf_zm",
        "outputId": "ceb5248c-d35e-4082-8621-8dc8cd529ae6"
      },
      "execution_count": 66,
      "outputs": [
        {
          "output_type": "stream",
          "name": "stdout",
          "text": [
            "Z-Statistic: 1.1392, p-value: 0.2546\n",
            "The difference in approval rates is not statistically significant.\n"
          ]
        }
      ]
    }
  ]
}