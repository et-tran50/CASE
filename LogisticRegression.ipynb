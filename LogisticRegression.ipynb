{
  "nbformat": 4,
  "nbformat_minor": 0,
  "metadata": {
    "colab": {
      "provenance": [],
      "authorship_tag": "ABX9TyPHtOUD4xjg5iyVU6DFMldM",
      "include_colab_link": true
    },
    "kernelspec": {
      "name": "python3",
      "display_name": "Python 3"
    },
    "language_info": {
      "name": "python"
    }
  },
  "cells": [
    {
      "cell_type": "markdown",
      "metadata": {
        "id": "view-in-github",
        "colab_type": "text"
      },
      "source": [
        "<a href=\"https://colab.research.google.com/github/et-tran50/CASE/blob/main/LogisticRegression.ipynb\" target=\"_parent\"><img src=\"https://colab.research.google.com/assets/colab-badge.svg\" alt=\"Open In Colab\"/></a>"
      ]
    },
    {
      "cell_type": "markdown",
      "source": [
        "# Imports"
      ],
      "metadata": {
        "id": "ZFm1oVLjjHfn"
      }
    },
    {
      "cell_type": "code",
      "execution_count": 41,
      "metadata": {
        "id": "1UzAPt5V4e22"
      },
      "outputs": [],
      "source": [
        "import pandas as pd\n",
        "import numpy as np\n",
        "import matplotlib.pyplot as plt\n",
        "import seaborn as sns\n",
        "from sklearn.impute import KNNImputer\n",
        "from sklearn.preprocessing import StandardScaler\n",
        "from sklearn.model_selection import cross_val_score, train_test_split, GridSearchCV\n",
        "from sklearn.linear_model import LogisticRegression\n",
        "from sklearn.metrics import accuracy_score, classification_report, confusion_matrix\n",
        "from sklearn.impute import SimpleImputer\n",
        "from sklearn.experimental import enable_iterative_imputer\n",
        "from sklearn.impute import IterativeImputer\n",
        "from sklearn.metrics import classification_report, confusion_matrix, precision_score, recall_score, f1_score\n",
        "import shap\n",
        "from sklearn.metrics import roc_auc_score, precision_recall_curve, roc_curve\n",
        "from sklearn.metrics import precision_recall_fscore_support\n",
        "from imblearn.over_sampling import SMOTE\n",
        "from sklearn.utils import resample\n",
        "from sklearn.feature_selection import mutual_info_classif"
      ]
    },
    {
      "cell_type": "markdown",
      "source": [
        "# Data Loading and Processing"
      ],
      "metadata": {
        "id": "p0UJNjjNjJsH"
      }
    },
    {
      "cell_type": "code",
      "source": [
        "train_data = pd.read_csv('/content/Training Dataset A_R-384922_Candidate Attach #1_PresSE_SRF #1141.csv')\n",
        "eval_data = pd.read_csv('/content/Evaluation Dataset B_R-384922_Candidate Attach #2_PresSE_SRF #1141.csv')"
      ],
      "metadata": {
        "id": "_UjLX_Q_4yrq"
      },
      "execution_count": 3,
      "outputs": []
    },
    {
      "cell_type": "code",
      "source": [
        "y = train_data['aprv_flag']  # Target variable\n",
        "X = train_data.drop(columns=['aprv_flag'])  # Features only\n",
        "\n",
        "categorical_cols = X.select_dtypes(include=['object']).columns\n",
        "numerical_cols = X.select_dtypes(exclude=['object']).columns\n",
        "\n",
        "X_encoded = pd.get_dummies(X, columns=categorical_cols, drop_first=True)\n",
        "encoded_column_names = X_encoded.columns  # Save column names for alignment"
      ],
      "metadata": {
        "id": "HX1F_Xhm40Gk"
      },
      "execution_count": 4,
      "outputs": []
    },
    {
      "cell_type": "code",
      "source": [
        "mice_imputer = IterativeImputer(max_iter=10, random_state=0)\n",
        "X_imputed = pd.DataFrame(mice_imputer.fit_transform(X_encoded), columns=encoded_column_names)\n",
        "scaler = StandardScaler()\n",
        "X_scaled = pd.DataFrame(scaler.fit_transform(X_imputed), columns=encoded_column_names)\n"
      ],
      "metadata": {
        "colab": {
          "base_uri": "https://localhost:8080/"
        },
        "id": "ZJ-UovGcYyrT",
        "outputId": "e2fc6505-6fd2-40e4-c741-f4ec9a3da5a7"
      },
      "execution_count": 5,
      "outputs": [
        {
          "output_type": "stream",
          "name": "stderr",
          "text": [
            "/usr/local/lib/python3.10/dist-packages/sklearn/impute/_iterative.py:825: ConvergenceWarning: [IterativeImputer] Early stopping criterion not reached.\n",
            "  warnings.warn(\n"
          ]
        }
      ]
    },
    {
      "cell_type": "code",
      "source": [
        "print(y.value_counts())"
      ],
      "metadata": {
        "colab": {
          "base_uri": "https://localhost:8080/"
        },
        "id": "2UxsAOsB42WC",
        "outputId": "742314c8-6524-4051-bef1-57f73c8daacd"
      },
      "execution_count": 6,
      "outputs": [
        {
          "output_type": "stream",
          "name": "stdout",
          "text": [
            "aprv_flag\n",
            "1    15952\n",
            "0     5654\n",
            "Name: count, dtype: int64\n"
          ]
        }
      ]
    },
    {
      "cell_type": "markdown",
      "source": [
        "We oversample the under-represented classes"
      ],
      "metadata": {
        "id": "mNIYc8rCjRyv"
      }
    },
    {
      "cell_type": "code",
      "source": [
        "# Oversample the minority class (class 0 is the minority)\n",
        "X_majority = X_scaled[np.array(y == 1)]\n",
        "X_minority = X_scaled[np.array(y == 0)]"
      ],
      "metadata": {
        "id": "COjLkMuH47_M"
      },
      "execution_count": 7,
      "outputs": []
    },
    {
      "cell_type": "code",
      "source": [
        "desired_ratio = 1 / 2\n",
        "target_minority_size = int(desired_ratio * X_majority.shape[0])\n",
        "\n",
        "X_minority_oversampled = resample(\n",
        "    X_minority,\n",
        "    replace=True,\n",
        "    n_samples=target_minority_size,\n",
        "    random_state=42\n",
        ")\n",
        "\n",
        "X_oversampled = pd.DataFrame(\n",
        "    np.vstack((X_majority, X_minority_oversampled)),\n",
        "    columns=encoded_column_names\n",
        ")\n",
        "y_oversampled = np.hstack((\n",
        "    np.ones(X_majority.shape[0]),\n",
        "    np.zeros(target_minority_size)\n",
        "))"
      ],
      "metadata": {
        "id": "IymnoUHY5HGZ"
      },
      "execution_count": 8,
      "outputs": []
    },
    {
      "cell_type": "code",
      "source": [
        "X_train, X_test, y_train, y_test = train_test_split(\n",
        "    X_oversampled, y_oversampled, test_size=0.2, random_state=42\n",
        ")"
      ],
      "metadata": {
        "id": "TRX0wZKd7HqU"
      },
      "execution_count": 9,
      "outputs": []
    },
    {
      "cell_type": "markdown",
      "source": [
        "# Exploratory Data Analysis"
      ],
      "metadata": {
        "id": "peo8KmZDmduw"
      }
    },
    {
      "cell_type": "code",
      "source": [
        "print(X.info())"
      ],
      "metadata": {
        "colab": {
          "base_uri": "https://localhost:8080/"
        },
        "id": "YaSfE1H1nRGW",
        "outputId": "f8bef01b-7009-49af-b6cc-693a04316893"
      },
      "execution_count": 11,
      "outputs": [
        {
          "output_type": "stream",
          "name": "stdout",
          "text": [
            "<class 'pandas.core.frame.DataFrame'>\n",
            "RangeIndex: 21606 entries, 0 to 21605\n",
            "Data columns (total 42 columns):\n",
            " #   Column                            Non-Null Count  Dtype  \n",
            "---  ------                            --------------  -----  \n",
            " 0   fico                              21431 non-null  float64\n",
            " 1   amtfinanced_1req                  21606 non-null  float64\n",
            " 2   collateral_dlrinput_newused_1req  21606 non-null  object \n",
            " 3   pti_1req                          21603 non-null  float64\n",
            " 4   ltv_1req                          21601 non-null  float64\n",
            " 5   p12_reh7120_a                     19694 non-null  float64\n",
            " 6   p12_bcx7110_a                     17917 non-null  float64\n",
            " 7   p12_all7170_a                     20943 non-null  float64\n",
            " 8   p12_aut7110_a                     11070 non-null  float64\n",
            " 9   p12_all7120_a                     21226 non-null  float64\n",
            " 10  p12_all7937_a                     21522 non-null  float64\n",
            " 11  p12_bcc8120_a                     19752 non-null  float64\n",
            " 12  p12_iln7410_a                     19364 non-null  float64\n",
            " 13  p12_rev1300_a                     20810 non-null  float64\n",
            " 14  p12_all8150_a                     9207 non-null   float64\n",
            " 15  p12_bca8370_a                     20021 non-null  float64\n",
            " 16  p12_all7517_a                     21262 non-null  float64\n",
            " 17  p12_iln8220_a                     19676 non-null  float64\n",
            " 18  p12_all6250_a                     21606 non-null  int64  \n",
            " 19  p12_aua8151_a                     3792 non-null   float64\n",
            " 20  p12_rtr7110_a                     12331 non-null  float64\n",
            " 21  p12_pil8120_a                     11857 non-null  float64\n",
            " 22  p12_aua0300_a                     21606 non-null  int64  \n",
            " 23  p12_all7938_a                     21538 non-null  float64\n",
            " 24  p12_bcc3456_a                     19051 non-null  float64\n",
            " 25  p12_all8370_a                     21606 non-null  int64  \n",
            " 26  p12_aua8220_a                     17194 non-null  float64\n",
            " 27  p12_als1300_a                     21491 non-null  float64\n",
            " 28  p12_aua6200_a                     17194 non-null  float64\n",
            " 29  p12_all2427_a                     21606 non-null  int64  \n",
            " 30  p12_alm6200_a                     21606 non-null  int64  \n",
            " 31  p12_all6971_a                     21562 non-null  float64\n",
            " 32  clntr9437_a                       8952 non-null   float64\n",
            " 33  clact9429_a                       8952 non-null   float64\n",
            " 34  clall5010_a                       2390 non-null   float64\n",
            " 35  clall2434_a                       719 non-null    float64\n",
            " 36  cloil0214_a                       78 non-null     float64\n",
            " 37  cltra4405_a                       787 non-null    float64\n",
            " 38  clact9428_a                       8952 non-null   float64\n",
            " 39  bad_flag                          21348 non-null  float64\n",
            " 40  Gender                            21606 non-null  object \n",
            " 41  Race                              21606 non-null  object \n",
            "dtypes: float64(34), int64(5), object(3)\n",
            "memory usage: 6.9+ MB\n",
            "None\n"
          ]
        }
      ]
    },
    {
      "cell_type": "code",
      "source": [
        "# Check class balance\n",
        "y_oversampled_series = pd.Series(y_oversampled)\n",
        "print(y_oversampled_series.value_counts())"
      ],
      "metadata": {
        "colab": {
          "base_uri": "https://localhost:8080/"
        },
        "id": "IwvewdQ37FsK",
        "outputId": "ece67ba4-52ec-41bb-a534-3b7177fa2c4b"
      },
      "execution_count": 12,
      "outputs": [
        {
          "output_type": "stream",
          "name": "stdout",
          "text": [
            "1.0    15952\n",
            "0.0     7976\n",
            "Name: count, dtype: int64\n"
          ]
        }
      ]
    },
    {
      "cell_type": "code",
      "source": [
        "# Mean, median, standard deviation, min, max.\n",
        "print(X.describe())"
      ],
      "metadata": {
        "colab": {
          "base_uri": "https://localhost:8080/"
        },
        "id": "nAcZv5UUmf5s",
        "outputId": "05bae4cf-33f0-42e7-ce13-27554ac6f7ed"
      },
      "execution_count": 13,
      "outputs": [
        {
          "output_type": "stream",
          "name": "stdout",
          "text": [
            "               fico  amtfinanced_1req      pti_1req      ltv_1req  \\\n",
            "count  21431.000000      21606.000000  21603.000000  21601.000000   \n",
            "mean     703.643087      29870.867118      9.025000    101.188938   \n",
            "std       82.786470      15311.300550      4.803567     23.245966   \n",
            "min      372.000000          0.000000      0.080000     10.350000   \n",
            "25%      644.000000      19370.000000      5.930000     90.520000   \n",
            "50%      701.000000      26806.000000      8.590000    103.470000   \n",
            "75%      766.000000      36931.250000     11.580000    113.800000   \n",
            "max      894.000000     189729.000000    207.090000    955.260000   \n",
            "\n",
            "       p12_reh7120_a  p12_bcx7110_a  p12_all7170_a  p12_aut7110_a  \\\n",
            "count   19694.000000   17917.000000   20943.000000   11070.000000   \n",
            "mean       51.866406      35.863370       3.597288      66.256459   \n",
            "std        37.352331      33.225946      14.888786      24.470168   \n",
            "min         0.000000       0.000000       0.000000       0.000000   \n",
            "25%        16.000000       6.000000       0.000000      50.000000   \n",
            "50%        52.000000      26.000000       0.000000      72.000000   \n",
            "75%        88.000000      63.000000       0.000000      86.000000   \n",
            "max       415.000000     290.000000     100.000000     152.000000   \n",
            "\n",
            "       p12_all7120_a  p12_all7937_a  ...  p12_alm6200_a  p12_all6971_a  \\\n",
            "count   21226.000000   21522.000000  ...   21606.000000   21562.000000   \n",
            "mean       85.351362      86.358889  ...     149.763445      58.454271   \n",
            "std        37.630013      22.466074  ...     181.349594     133.394966   \n",
            "min         0.000000       0.000000  ...       1.000000       0.000000   \n",
            "25%        73.000000      80.000000  ...       1.000000       1.000000   \n",
            "50%        94.000000     100.000000  ...      30.000000       1.000000   \n",
            "75%       100.000000     100.000000  ...     400.000000       1.000000   \n",
            "max       711.000000     100.000000  ...     400.000000     400.000000   \n",
            "\n",
            "       clntr9437_a  clact9429_a   clall5010_a  clall2434_a  cloil0214_a  \\\n",
            "count  8952.000000  8952.000000   2390.000000   719.000000    78.000000   \n",
            "mean      1.391309     2.264187   2427.658996     0.020862     0.217949   \n",
            "std       3.433233     6.929704   4421.540329     0.143023     0.415525   \n",
            "min       0.000000     0.000000      0.000000     0.000000     0.000000   \n",
            "25%       0.000000     0.000000      0.000000     0.000000     0.000000   \n",
            "50%       0.000000     0.000000      0.000000     0.000000     0.000000   \n",
            "75%       1.000000     2.000000   2798.250000     0.000000     0.000000   \n",
            "max      73.000000   178.000000  33549.000000     1.000000     1.000000   \n",
            "\n",
            "       cltra4405_a  clact9428_a      bad_flag  \n",
            "count   787.000000  8952.000000  21348.000000  \n",
            "mean      0.016518     0.614946      0.044875  \n",
            "std       0.216334     2.287114      0.207035  \n",
            "min       0.000000     0.000000      0.000000  \n",
            "25%       0.000000     0.000000      0.000000  \n",
            "50%       0.000000     0.000000      0.000000  \n",
            "75%       0.000000     0.000000      0.000000  \n",
            "max       3.000000    69.000000      1.000000  \n",
            "\n",
            "[8 rows x 39 columns]\n"
          ]
        }
      ]
    },
    {
      "cell_type": "code",
      "source": [
        "gender_counts = X['Gender'].value_counts()\n",
        "print(\"Counts for each gender:\")\n",
        "print(gender_counts)"
      ],
      "metadata": {
        "colab": {
          "base_uri": "https://localhost:8080/"
        },
        "id": "chUZQUfHTu6v",
        "outputId": "d51e6caa-9596-4cf0-8c49-d32dd7d44790"
      },
      "execution_count": 14,
      "outputs": [
        {
          "output_type": "stream",
          "name": "stdout",
          "text": [
            "Counts for each gender:\n",
            "Gender\n",
            "Male         11510\n",
            "Female        8983\n",
            "Undefined     1113\n",
            "Name: count, dtype: int64\n"
          ]
        }
      ]
    },
    {
      "cell_type": "code",
      "source": [
        "gender_counts = X['Race'].value_counts()\n",
        "print(\"Counts for each race:\")\n",
        "print(gender_counts)"
      ],
      "metadata": {
        "colab": {
          "base_uri": "https://localhost:8080/"
        },
        "id": "NVvvxB_PUCli",
        "outputId": "9ca70d42-08a7-4344-98c5-190a99159107"
      },
      "execution_count": 15,
      "outputs": [
        {
          "output_type": "stream",
          "name": "stdout",
          "text": [
            "Counts for each race:\n",
            "Race\n",
            "White       11806\n",
            "Hispanic     4864\n",
            "Black        2941\n",
            "Other        1441\n",
            "Asian         554\n",
            "Name: count, dtype: int64\n"
          ]
        }
      ]
    },
    {
      "cell_type": "code",
      "source": [
        "# Percentage of missing data for each column.\n",
        "print(X.isnull().sum() / len(X) * 100)"
      ],
      "metadata": {
        "colab": {
          "base_uri": "https://localhost:8080/"
        },
        "id": "d_a_maZjmtqo",
        "outputId": "1c3cdad0-1253-4017-d347-e18c28853a4b"
      },
      "execution_count": 16,
      "outputs": [
        {
          "output_type": "stream",
          "name": "stdout",
          "text": [
            "fico                                 0.809960\n",
            "amtfinanced_1req                     0.000000\n",
            "collateral_dlrinput_newused_1req     0.000000\n",
            "pti_1req                             0.013885\n",
            "ltv_1req                             0.023142\n",
            "p12_reh7120_a                        8.849394\n",
            "p12_bcx7110_a                       17.073961\n",
            "p12_all7170_a                        3.068592\n",
            "p12_aut7110_a                       48.764232\n",
            "p12_all7120_a                        1.758771\n",
            "p12_all7937_a                        0.388781\n",
            "p12_bcc8120_a                        8.580950\n",
            "p12_iln7410_a                       10.376747\n",
            "p12_rev1300_a                        3.684162\n",
            "p12_all8150_a                       57.386837\n",
            "p12_bca8370_a                        7.335925\n",
            "p12_all7517_a                        1.592150\n",
            "p12_iln8220_a                        8.932704\n",
            "p12_all6250_a                        0.000000\n",
            "p12_aua8151_a                       82.449320\n",
            "p12_rtr7110_a                       42.927890\n",
            "p12_pil8120_a                       45.121725\n",
            "p12_aua0300_a                        0.000000\n",
            "p12_all7938_a                        0.314727\n",
            "p12_bcc3456_a                       11.825419\n",
            "p12_all8370_a                        0.000000\n",
            "p12_aua8220_a                       20.420254\n",
            "p12_als1300_a                        0.532260\n",
            "p12_aua6200_a                       20.420254\n",
            "p12_all2427_a                        0.000000\n",
            "p12_alm6200_a                        0.000000\n",
            "p12_all6971_a                        0.203647\n",
            "clntr9437_a                         58.567065\n",
            "clact9429_a                         58.567065\n",
            "clall5010_a                         88.938258\n",
            "clall2434_a                         96.672221\n",
            "cloil0214_a                         99.638989\n",
            "cltra4405_a                         96.357493\n",
            "clact9428_a                         58.567065\n",
            "bad_flag                             1.194113\n",
            "Gender                               0.000000\n",
            "Race                                 0.000000\n",
            "dtype: float64\n"
          ]
        }
      ]
    },
    {
      "cell_type": "code",
      "source": [
        "# Compute the correlation matrix\n",
        "corr_matrix = X_encoded.corr()\n",
        "\n",
        "corr_pairs = corr_matrix.unstack().reset_index()\n",
        "corr_pairs.columns = ['Variable 1', 'Variable 2', 'Correlation']\n",
        "\n",
        "# Remove self-correlations and duplicate pairs\n",
        "corr_pairs = corr_pairs[corr_pairs['Variable 1'] != corr_pairs['Variable 2']]\n",
        "corr_pairs['Abs Correlation'] = corr_pairs['Correlation'].abs()\n",
        "corr_pairs = corr_pairs.drop_duplicates(subset=['Abs Correlation'])\n",
        "\n",
        "# Sort by absolute correlation\n",
        "top_corr = corr_pairs.sort_values(by='Correlation', ascending=False)\n",
        "top_abs_corr = corr_pairs.sort_values(by='Abs Correlation', ascending=False)\n",
        "\n",
        "# Display the top correlations\n",
        "print(\"Top Correlated Variable Pairs:\")\n",
        "print(top_corr.head(17))\n",
        "print(\"\\nTop Absoulte Correlated Variable Pairs:\")\n",
        "print(top_abs_corr.head(24))\n",
        "\n"
      ],
      "metadata": {
        "colab": {
          "base_uri": "https://localhost:8080/"
        },
        "id": "dGGF24WtV9_B",
        "outputId": "22a6993d-d07a-44d6-cde8-32d829c1a948"
      },
      "execution_count": 40,
      "outputs": [
        {
          "output_type": "stream",
          "name": "stdout",
          "text": [
            "Top Correlated Variable Pairs:\n",
            "         Variable 1     Variable 2  Correlation  Abs Correlation\n",
            "1458    clntr9437_a    clact9429_a     0.945081         0.945081\n",
            "1600    clall2434_a    cltra4405_a     0.893696         0.893696\n",
            "436   p12_all7937_a  p12_all7938_a     0.889163         0.889163\n",
            "578   p12_rev1300_a  p12_als1300_a     0.848632         0.848632\n",
            "189   p12_reh7120_a  p12_bcx7110_a     0.808004         0.808004\n",
            "668   p12_bca8370_a  p12_all8370_a     0.754088         0.754088\n",
            "616   p12_all8150_a  p12_aua8151_a     0.719021         0.719021\n",
            "1509    clact9429_a    clact9428_a     0.715504         0.715504\n",
            "1463    clntr9437_a    clact9428_a     0.691852         0.691852\n",
            "22             fico  p12_all7938_a     0.667274         0.667274\n",
            "474   p12_bcc8120_a  p12_bca8370_a     0.656980         0.656980\n",
            "9              fico  p12_all7937_a     0.636410         0.636410\n",
            "761   p12_iln8220_a  p12_aua8220_a     0.635503         0.635503\n",
            "992   p12_aua0300_a  p12_als1300_a     0.609645         0.609645\n",
            "203   p12_reh7120_a  p12_rtr7110_a     0.559626         0.559626\n",
            "575   p12_rev1300_a  p12_bcc3456_a     0.558308         0.558308\n",
            "811   p12_all6250_a  p12_alm6200_a     0.519889         0.519889\n",
            "\n",
            "Top Absoulte Correlated Variable Pairs:\n",
            "         Variable 1     Variable 2  Correlation  Abs Correlation\n",
            "1458    clntr9437_a    clact9429_a     0.945081         0.945081\n",
            "1600    clall2434_a    cltra4405_a     0.893696         0.893696\n",
            "436   p12_all7937_a  p12_all7938_a     0.889163         0.889163\n",
            "578   p12_rev1300_a  p12_als1300_a     0.848632         0.848632\n",
            "189   p12_reh7120_a  p12_bcx7110_a     0.808004         0.808004\n",
            "668   p12_bca8370_a  p12_all8370_a     0.754088         0.754088\n",
            "616   p12_all8150_a  p12_aua8151_a     0.719021         0.719021\n",
            "1509    clact9429_a    clact9428_a     0.715504         0.715504\n",
            "1463    clntr9437_a    clact9428_a     0.691852         0.691852\n",
            "22             fico  p12_all7938_a     0.667274         0.667274\n",
            "474   p12_bcc8120_a  p12_bca8370_a     0.656980         0.656980\n",
            "29             fico  p12_alm6200_a    -0.637290         0.637290\n",
            "9              fico  p12_all7937_a     0.636410         0.636410\n",
            "761   p12_iln8220_a  p12_aua8220_a     0.635503         0.635503\n",
            "992   p12_aua0300_a  p12_als1300_a     0.609645         0.609645\n",
            "1041  p12_all7938_a  p12_alm6200_a    -0.607536         0.607536\n",
            "2023  Race_Hispanic     Race_White    -0.591604         0.591604\n",
            "5              fico  p12_bcx7110_a    -0.590160         0.590160\n",
            "443   p12_all7937_a  p12_alm6200_a    -0.575318         0.575318\n",
            "203   p12_reh7120_a  p12_rtr7110_a     0.559626         0.559626\n",
            "575   p12_rev1300_a  p12_bcc3456_a     0.558308         0.558308\n",
            "811   p12_all6250_a  p12_alm6200_a     0.519889         0.519889\n",
            "444   p12_all7937_a  p12_all6971_a    -0.516862         0.516862\n",
            "4              fico  p12_reh7120_a    -0.515533         0.515533\n"
          ]
        }
      ]
    },
    {
      "cell_type": "code",
      "source": [
        "# Mutual Information\n",
        "mutual_info = mutual_info_classif(X_imputed, y)\n",
        "feature_importance = pd.Series(mutual_info, index=X_imputed.columns)\n",
        "top_features = feature_importance.sort_values(ascending=False).head(10)\n",
        "print(top_features)"
      ],
      "metadata": {
        "colab": {
          "base_uri": "https://localhost:8080/"
        },
        "id": "k1RjuGD7c3Wz",
        "outputId": "bed53349-ea26-4fac-f31c-ffd724724851"
      },
      "execution_count": 49,
      "outputs": [
        {
          "output_type": "stream",
          "name": "stdout",
          "text": [
            "fico             0.135115\n",
            "p12_all7937_a    0.086277\n",
            "p12_all7938_a    0.074465\n",
            "clntr9437_a      0.073181\n",
            "clact9428_a      0.070652\n",
            "clact9429_a      0.068739\n",
            "p12_bcc3456_a    0.061297\n",
            "p12_bca8370_a    0.055491\n",
            "p12_all6971_a    0.047821\n",
            "p12_bcx7110_a    0.044944\n",
            "dtype: float64\n"
          ]
        }
      ]
    },
    {
      "cell_type": "markdown",
      "source": [
        "# Logistic Regression\n",
        "We employ a logistic regression model using $L_1$ regularization to penalize the coefficients. Further cross validation is done to help prevent overfitting."
      ],
      "metadata": {
        "id": "UzjNMB-LjZg-"
      }
    },
    {
      "cell_type": "code",
      "source": [
        "# Test different values of C for L1 regularization\n",
        "best_C = None\n",
        "best_score = 0\n",
        "results = {}\n",
        "\n",
        "print(\"Tuning Regularization Parameter C...\")\n",
        "for C in [0.01, 0.1, 1.0, 10.0]:\n",
        "    # Define L1-regularized logistic regression model\n",
        "    model = LogisticRegression(penalty='l1', solver='liblinear', C=C, random_state=42)\n",
        "\n",
        "    # Perform cross-validation to evaluate AUROC\n",
        "    scores = cross_val_score(model, X_train, y_train, cv=5, scoring='roc_auc')\n",
        "    mean_score = scores.mean()\n",
        "    results[C] = mean_score\n",
        "\n",
        "    print(f\"C: {C}, Cross-validated AUROC: {mean_score:.4f} ± {scores.std():.4f}\")\n",
        "\n",
        "    # Track the best C based on mean AUROC\n",
        "    if mean_score > best_score:\n",
        "        best_C = C\n",
        "        best_score = mean_score\n",
        "\n",
        "print(f\"\\nBest C: {best_C}, Best Cross-validated AUROC: {best_score:.4f}\")\n",
        "\n",
        "# Train the best model\n",
        "final_model = LogisticRegression(penalty='l1', solver='liblinear', C=best_C, random_state=42)\n",
        "final_model.fit(X_train, y_train)"
      ],
      "metadata": {
        "colab": {
          "base_uri": "https://localhost:8080/",
          "height": 0
        },
        "id": "QBTfbX-l7IjK",
        "outputId": "8055956e-ce90-4d69-dbaf-07a5849f657d"
      },
      "execution_count": 50,
      "outputs": [
        {
          "output_type": "stream",
          "name": "stdout",
          "text": [
            "Tuning Regularization Parameter C...\n",
            "C: 0.01, Cross-validated AUROC: 0.8469 ± 0.0035\n",
            "C: 0.1, Cross-validated AUROC: 0.8489 ± 0.0038\n",
            "C: 1.0, Cross-validated AUROC: 0.8486 ± 0.0040\n",
            "C: 10.0, Cross-validated AUROC: 0.8485 ± 0.0040\n",
            "\n",
            "Best C: 0.1, Best Cross-validated AUROC: 0.8489\n"
          ]
        },
        {
          "output_type": "execute_result",
          "data": {
            "text/plain": [
              "LogisticRegression(C=0.1, penalty='l1', random_state=42, solver='liblinear')"
            ],
            "text/html": [
              "<style>#sk-container-id-1 {\n",
              "  /* Definition of color scheme common for light and dark mode */\n",
              "  --sklearn-color-text: black;\n",
              "  --sklearn-color-line: gray;\n",
              "  /* Definition of color scheme for unfitted estimators */\n",
              "  --sklearn-color-unfitted-level-0: #fff5e6;\n",
              "  --sklearn-color-unfitted-level-1: #f6e4d2;\n",
              "  --sklearn-color-unfitted-level-2: #ffe0b3;\n",
              "  --sklearn-color-unfitted-level-3: chocolate;\n",
              "  /* Definition of color scheme for fitted estimators */\n",
              "  --sklearn-color-fitted-level-0: #f0f8ff;\n",
              "  --sklearn-color-fitted-level-1: #d4ebff;\n",
              "  --sklearn-color-fitted-level-2: #b3dbfd;\n",
              "  --sklearn-color-fitted-level-3: cornflowerblue;\n",
              "\n",
              "  /* Specific color for light theme */\n",
              "  --sklearn-color-text-on-default-background: var(--sg-text-color, var(--theme-code-foreground, var(--jp-content-font-color1, black)));\n",
              "  --sklearn-color-background: var(--sg-background-color, var(--theme-background, var(--jp-layout-color0, white)));\n",
              "  --sklearn-color-border-box: var(--sg-text-color, var(--theme-code-foreground, var(--jp-content-font-color1, black)));\n",
              "  --sklearn-color-icon: #696969;\n",
              "\n",
              "  @media (prefers-color-scheme: dark) {\n",
              "    /* Redefinition of color scheme for dark theme */\n",
              "    --sklearn-color-text-on-default-background: var(--sg-text-color, var(--theme-code-foreground, var(--jp-content-font-color1, white)));\n",
              "    --sklearn-color-background: var(--sg-background-color, var(--theme-background, var(--jp-layout-color0, #111)));\n",
              "    --sklearn-color-border-box: var(--sg-text-color, var(--theme-code-foreground, var(--jp-content-font-color1, white)));\n",
              "    --sklearn-color-icon: #878787;\n",
              "  }\n",
              "}\n",
              "\n",
              "#sk-container-id-1 {\n",
              "  color: var(--sklearn-color-text);\n",
              "}\n",
              "\n",
              "#sk-container-id-1 pre {\n",
              "  padding: 0;\n",
              "}\n",
              "\n",
              "#sk-container-id-1 input.sk-hidden--visually {\n",
              "  border: 0;\n",
              "  clip: rect(1px 1px 1px 1px);\n",
              "  clip: rect(1px, 1px, 1px, 1px);\n",
              "  height: 1px;\n",
              "  margin: -1px;\n",
              "  overflow: hidden;\n",
              "  padding: 0;\n",
              "  position: absolute;\n",
              "  width: 1px;\n",
              "}\n",
              "\n",
              "#sk-container-id-1 div.sk-dashed-wrapped {\n",
              "  border: 1px dashed var(--sklearn-color-line);\n",
              "  margin: 0 0.4em 0.5em 0.4em;\n",
              "  box-sizing: border-box;\n",
              "  padding-bottom: 0.4em;\n",
              "  background-color: var(--sklearn-color-background);\n",
              "}\n",
              "\n",
              "#sk-container-id-1 div.sk-container {\n",
              "  /* jupyter's `normalize.less` sets `[hidden] { display: none; }`\n",
              "     but bootstrap.min.css set `[hidden] { display: none !important; }`\n",
              "     so we also need the `!important` here to be able to override the\n",
              "     default hidden behavior on the sphinx rendered scikit-learn.org.\n",
              "     See: https://github.com/scikit-learn/scikit-learn/issues/21755 */\n",
              "  display: inline-block !important;\n",
              "  position: relative;\n",
              "}\n",
              "\n",
              "#sk-container-id-1 div.sk-text-repr-fallback {\n",
              "  display: none;\n",
              "}\n",
              "\n",
              "div.sk-parallel-item,\n",
              "div.sk-serial,\n",
              "div.sk-item {\n",
              "  /* draw centered vertical line to link estimators */\n",
              "  background-image: linear-gradient(var(--sklearn-color-text-on-default-background), var(--sklearn-color-text-on-default-background));\n",
              "  background-size: 2px 100%;\n",
              "  background-repeat: no-repeat;\n",
              "  background-position: center center;\n",
              "}\n",
              "\n",
              "/* Parallel-specific style estimator block */\n",
              "\n",
              "#sk-container-id-1 div.sk-parallel-item::after {\n",
              "  content: \"\";\n",
              "  width: 100%;\n",
              "  border-bottom: 2px solid var(--sklearn-color-text-on-default-background);\n",
              "  flex-grow: 1;\n",
              "}\n",
              "\n",
              "#sk-container-id-1 div.sk-parallel {\n",
              "  display: flex;\n",
              "  align-items: stretch;\n",
              "  justify-content: center;\n",
              "  background-color: var(--sklearn-color-background);\n",
              "  position: relative;\n",
              "}\n",
              "\n",
              "#sk-container-id-1 div.sk-parallel-item {\n",
              "  display: flex;\n",
              "  flex-direction: column;\n",
              "}\n",
              "\n",
              "#sk-container-id-1 div.sk-parallel-item:first-child::after {\n",
              "  align-self: flex-end;\n",
              "  width: 50%;\n",
              "}\n",
              "\n",
              "#sk-container-id-1 div.sk-parallel-item:last-child::after {\n",
              "  align-self: flex-start;\n",
              "  width: 50%;\n",
              "}\n",
              "\n",
              "#sk-container-id-1 div.sk-parallel-item:only-child::after {\n",
              "  width: 0;\n",
              "}\n",
              "\n",
              "/* Serial-specific style estimator block */\n",
              "\n",
              "#sk-container-id-1 div.sk-serial {\n",
              "  display: flex;\n",
              "  flex-direction: column;\n",
              "  align-items: center;\n",
              "  background-color: var(--sklearn-color-background);\n",
              "  padding-right: 1em;\n",
              "  padding-left: 1em;\n",
              "}\n",
              "\n",
              "\n",
              "/* Toggleable style: style used for estimator/Pipeline/ColumnTransformer box that is\n",
              "clickable and can be expanded/collapsed.\n",
              "- Pipeline and ColumnTransformer use this feature and define the default style\n",
              "- Estimators will overwrite some part of the style using the `sk-estimator` class\n",
              "*/\n",
              "\n",
              "/* Pipeline and ColumnTransformer style (default) */\n",
              "\n",
              "#sk-container-id-1 div.sk-toggleable {\n",
              "  /* Default theme specific background. It is overwritten whether we have a\n",
              "  specific estimator or a Pipeline/ColumnTransformer */\n",
              "  background-color: var(--sklearn-color-background);\n",
              "}\n",
              "\n",
              "/* Toggleable label */\n",
              "#sk-container-id-1 label.sk-toggleable__label {\n",
              "  cursor: pointer;\n",
              "  display: block;\n",
              "  width: 100%;\n",
              "  margin-bottom: 0;\n",
              "  padding: 0.5em;\n",
              "  box-sizing: border-box;\n",
              "  text-align: center;\n",
              "}\n",
              "\n",
              "#sk-container-id-1 label.sk-toggleable__label-arrow:before {\n",
              "  /* Arrow on the left of the label */\n",
              "  content: \"▸\";\n",
              "  float: left;\n",
              "  margin-right: 0.25em;\n",
              "  color: var(--sklearn-color-icon);\n",
              "}\n",
              "\n",
              "#sk-container-id-1 label.sk-toggleable__label-arrow:hover:before {\n",
              "  color: var(--sklearn-color-text);\n",
              "}\n",
              "\n",
              "/* Toggleable content - dropdown */\n",
              "\n",
              "#sk-container-id-1 div.sk-toggleable__content {\n",
              "  max-height: 0;\n",
              "  max-width: 0;\n",
              "  overflow: hidden;\n",
              "  text-align: left;\n",
              "  /* unfitted */\n",
              "  background-color: var(--sklearn-color-unfitted-level-0);\n",
              "}\n",
              "\n",
              "#sk-container-id-1 div.sk-toggleable__content.fitted {\n",
              "  /* fitted */\n",
              "  background-color: var(--sklearn-color-fitted-level-0);\n",
              "}\n",
              "\n",
              "#sk-container-id-1 div.sk-toggleable__content pre {\n",
              "  margin: 0.2em;\n",
              "  border-radius: 0.25em;\n",
              "  color: var(--sklearn-color-text);\n",
              "  /* unfitted */\n",
              "  background-color: var(--sklearn-color-unfitted-level-0);\n",
              "}\n",
              "\n",
              "#sk-container-id-1 div.sk-toggleable__content.fitted pre {\n",
              "  /* unfitted */\n",
              "  background-color: var(--sklearn-color-fitted-level-0);\n",
              "}\n",
              "\n",
              "#sk-container-id-1 input.sk-toggleable__control:checked~div.sk-toggleable__content {\n",
              "  /* Expand drop-down */\n",
              "  max-height: 200px;\n",
              "  max-width: 100%;\n",
              "  overflow: auto;\n",
              "}\n",
              "\n",
              "#sk-container-id-1 input.sk-toggleable__control:checked~label.sk-toggleable__label-arrow:before {\n",
              "  content: \"▾\";\n",
              "}\n",
              "\n",
              "/* Pipeline/ColumnTransformer-specific style */\n",
              "\n",
              "#sk-container-id-1 div.sk-label input.sk-toggleable__control:checked~label.sk-toggleable__label {\n",
              "  color: var(--sklearn-color-text);\n",
              "  background-color: var(--sklearn-color-unfitted-level-2);\n",
              "}\n",
              "\n",
              "#sk-container-id-1 div.sk-label.fitted input.sk-toggleable__control:checked~label.sk-toggleable__label {\n",
              "  background-color: var(--sklearn-color-fitted-level-2);\n",
              "}\n",
              "\n",
              "/* Estimator-specific style */\n",
              "\n",
              "/* Colorize estimator box */\n",
              "#sk-container-id-1 div.sk-estimator input.sk-toggleable__control:checked~label.sk-toggleable__label {\n",
              "  /* unfitted */\n",
              "  background-color: var(--sklearn-color-unfitted-level-2);\n",
              "}\n",
              "\n",
              "#sk-container-id-1 div.sk-estimator.fitted input.sk-toggleable__control:checked~label.sk-toggleable__label {\n",
              "  /* fitted */\n",
              "  background-color: var(--sklearn-color-fitted-level-2);\n",
              "}\n",
              "\n",
              "#sk-container-id-1 div.sk-label label.sk-toggleable__label,\n",
              "#sk-container-id-1 div.sk-label label {\n",
              "  /* The background is the default theme color */\n",
              "  color: var(--sklearn-color-text-on-default-background);\n",
              "}\n",
              "\n",
              "/* On hover, darken the color of the background */\n",
              "#sk-container-id-1 div.sk-label:hover label.sk-toggleable__label {\n",
              "  color: var(--sklearn-color-text);\n",
              "  background-color: var(--sklearn-color-unfitted-level-2);\n",
              "}\n",
              "\n",
              "/* Label box, darken color on hover, fitted */\n",
              "#sk-container-id-1 div.sk-label.fitted:hover label.sk-toggleable__label.fitted {\n",
              "  color: var(--sklearn-color-text);\n",
              "  background-color: var(--sklearn-color-fitted-level-2);\n",
              "}\n",
              "\n",
              "/* Estimator label */\n",
              "\n",
              "#sk-container-id-1 div.sk-label label {\n",
              "  font-family: monospace;\n",
              "  font-weight: bold;\n",
              "  display: inline-block;\n",
              "  line-height: 1.2em;\n",
              "}\n",
              "\n",
              "#sk-container-id-1 div.sk-label-container {\n",
              "  text-align: center;\n",
              "}\n",
              "\n",
              "/* Estimator-specific */\n",
              "#sk-container-id-1 div.sk-estimator {\n",
              "  font-family: monospace;\n",
              "  border: 1px dotted var(--sklearn-color-border-box);\n",
              "  border-radius: 0.25em;\n",
              "  box-sizing: border-box;\n",
              "  margin-bottom: 0.5em;\n",
              "  /* unfitted */\n",
              "  background-color: var(--sklearn-color-unfitted-level-0);\n",
              "}\n",
              "\n",
              "#sk-container-id-1 div.sk-estimator.fitted {\n",
              "  /* fitted */\n",
              "  background-color: var(--sklearn-color-fitted-level-0);\n",
              "}\n",
              "\n",
              "/* on hover */\n",
              "#sk-container-id-1 div.sk-estimator:hover {\n",
              "  /* unfitted */\n",
              "  background-color: var(--sklearn-color-unfitted-level-2);\n",
              "}\n",
              "\n",
              "#sk-container-id-1 div.sk-estimator.fitted:hover {\n",
              "  /* fitted */\n",
              "  background-color: var(--sklearn-color-fitted-level-2);\n",
              "}\n",
              "\n",
              "/* Specification for estimator info (e.g. \"i\" and \"?\") */\n",
              "\n",
              "/* Common style for \"i\" and \"?\" */\n",
              "\n",
              ".sk-estimator-doc-link,\n",
              "a:link.sk-estimator-doc-link,\n",
              "a:visited.sk-estimator-doc-link {\n",
              "  float: right;\n",
              "  font-size: smaller;\n",
              "  line-height: 1em;\n",
              "  font-family: monospace;\n",
              "  background-color: var(--sklearn-color-background);\n",
              "  border-radius: 1em;\n",
              "  height: 1em;\n",
              "  width: 1em;\n",
              "  text-decoration: none !important;\n",
              "  margin-left: 1ex;\n",
              "  /* unfitted */\n",
              "  border: var(--sklearn-color-unfitted-level-1) 1pt solid;\n",
              "  color: var(--sklearn-color-unfitted-level-1);\n",
              "}\n",
              "\n",
              ".sk-estimator-doc-link.fitted,\n",
              "a:link.sk-estimator-doc-link.fitted,\n",
              "a:visited.sk-estimator-doc-link.fitted {\n",
              "  /* fitted */\n",
              "  border: var(--sklearn-color-fitted-level-1) 1pt solid;\n",
              "  color: var(--sklearn-color-fitted-level-1);\n",
              "}\n",
              "\n",
              "/* On hover */\n",
              "div.sk-estimator:hover .sk-estimator-doc-link:hover,\n",
              ".sk-estimator-doc-link:hover,\n",
              "div.sk-label-container:hover .sk-estimator-doc-link:hover,\n",
              ".sk-estimator-doc-link:hover {\n",
              "  /* unfitted */\n",
              "  background-color: var(--sklearn-color-unfitted-level-3);\n",
              "  color: var(--sklearn-color-background);\n",
              "  text-decoration: none;\n",
              "}\n",
              "\n",
              "div.sk-estimator.fitted:hover .sk-estimator-doc-link.fitted:hover,\n",
              ".sk-estimator-doc-link.fitted:hover,\n",
              "div.sk-label-container:hover .sk-estimator-doc-link.fitted:hover,\n",
              ".sk-estimator-doc-link.fitted:hover {\n",
              "  /* fitted */\n",
              "  background-color: var(--sklearn-color-fitted-level-3);\n",
              "  color: var(--sklearn-color-background);\n",
              "  text-decoration: none;\n",
              "}\n",
              "\n",
              "/* Span, style for the box shown on hovering the info icon */\n",
              ".sk-estimator-doc-link span {\n",
              "  display: none;\n",
              "  z-index: 9999;\n",
              "  position: relative;\n",
              "  font-weight: normal;\n",
              "  right: .2ex;\n",
              "  padding: .5ex;\n",
              "  margin: .5ex;\n",
              "  width: min-content;\n",
              "  min-width: 20ex;\n",
              "  max-width: 50ex;\n",
              "  color: var(--sklearn-color-text);\n",
              "  box-shadow: 2pt 2pt 4pt #999;\n",
              "  /* unfitted */\n",
              "  background: var(--sklearn-color-unfitted-level-0);\n",
              "  border: .5pt solid var(--sklearn-color-unfitted-level-3);\n",
              "}\n",
              "\n",
              ".sk-estimator-doc-link.fitted span {\n",
              "  /* fitted */\n",
              "  background: var(--sklearn-color-fitted-level-0);\n",
              "  border: var(--sklearn-color-fitted-level-3);\n",
              "}\n",
              "\n",
              ".sk-estimator-doc-link:hover span {\n",
              "  display: block;\n",
              "}\n",
              "\n",
              "/* \"?\"-specific style due to the `<a>` HTML tag */\n",
              "\n",
              "#sk-container-id-1 a.estimator_doc_link {\n",
              "  float: right;\n",
              "  font-size: 1rem;\n",
              "  line-height: 1em;\n",
              "  font-family: monospace;\n",
              "  background-color: var(--sklearn-color-background);\n",
              "  border-radius: 1rem;\n",
              "  height: 1rem;\n",
              "  width: 1rem;\n",
              "  text-decoration: none;\n",
              "  /* unfitted */\n",
              "  color: var(--sklearn-color-unfitted-level-1);\n",
              "  border: var(--sklearn-color-unfitted-level-1) 1pt solid;\n",
              "}\n",
              "\n",
              "#sk-container-id-1 a.estimator_doc_link.fitted {\n",
              "  /* fitted */\n",
              "  border: var(--sklearn-color-fitted-level-1) 1pt solid;\n",
              "  color: var(--sklearn-color-fitted-level-1);\n",
              "}\n",
              "\n",
              "/* On hover */\n",
              "#sk-container-id-1 a.estimator_doc_link:hover {\n",
              "  /* unfitted */\n",
              "  background-color: var(--sklearn-color-unfitted-level-3);\n",
              "  color: var(--sklearn-color-background);\n",
              "  text-decoration: none;\n",
              "}\n",
              "\n",
              "#sk-container-id-1 a.estimator_doc_link.fitted:hover {\n",
              "  /* fitted */\n",
              "  background-color: var(--sklearn-color-fitted-level-3);\n",
              "}\n",
              "</style><div id=\"sk-container-id-1\" class=\"sk-top-container\"><div class=\"sk-text-repr-fallback\"><pre>LogisticRegression(C=0.1, penalty=&#x27;l1&#x27;, random_state=42, solver=&#x27;liblinear&#x27;)</pre><b>In a Jupyter environment, please rerun this cell to show the HTML representation or trust the notebook. <br />On GitHub, the HTML representation is unable to render, please try loading this page with nbviewer.org.</b></div><div class=\"sk-container\" hidden><div class=\"sk-item\"><div class=\"sk-estimator fitted sk-toggleable\"><input class=\"sk-toggleable__control sk-hidden--visually\" id=\"sk-estimator-id-1\" type=\"checkbox\" checked><label for=\"sk-estimator-id-1\" class=\"sk-toggleable__label fitted sk-toggleable__label-arrow fitted\">&nbsp;&nbsp;LogisticRegression<a class=\"sk-estimator-doc-link fitted\" rel=\"noreferrer\" target=\"_blank\" href=\"https://scikit-learn.org/1.5/modules/generated/sklearn.linear_model.LogisticRegression.html\">?<span>Documentation for LogisticRegression</span></a><span class=\"sk-estimator-doc-link fitted\">i<span>Fitted</span></span></label><div class=\"sk-toggleable__content fitted\"><pre>LogisticRegression(C=0.1, penalty=&#x27;l1&#x27;, random_state=42, solver=&#x27;liblinear&#x27;)</pre></div> </div></div></div></div>"
            ]
          },
          "metadata": {},
          "execution_count": 50
        }
      ]
    },
    {
      "cell_type": "markdown",
      "source": [
        "# Accuracy Report"
      ],
      "metadata": {
        "id": "ghDg0czbj5pi"
      }
    },
    {
      "cell_type": "code",
      "source": [
        "# Predict on the test set\n",
        "y_pred = final_model.predict(X_test)\n",
        "y_pred_proba = final_model.predict_proba(X_test)[:, 1]\n",
        "\n",
        "# Evaluate the final model\n",
        "validation_accuracy = accuracy_score(y_test, y_pred)\n",
        "roc_auc = roc_auc_score(y_test, y_pred_proba)\n",
        "\n",
        "print(f\"Validation Accuracy: {validation_accuracy:.4f}\")\n",
        "print(f\"Validation AUROC: {roc_auc:.4f}\")"
      ],
      "metadata": {
        "colab": {
          "base_uri": "https://localhost:8080/"
        },
        "id": "TGt9JWWmj3UQ",
        "outputId": "78b5ea19-b77a-42e0-bd90-ea1b7b000ec4"
      },
      "execution_count": 51,
      "outputs": [
        {
          "output_type": "stream",
          "name": "stdout",
          "text": [
            "Validation Accuracy: 0.8015\n",
            "Validation AUROC: 0.8550\n"
          ]
        }
      ]
    },
    {
      "cell_type": "code",
      "source": [
        "print(classification_report(y_test, final_model.predict(X_test)))"
      ],
      "metadata": {
        "colab": {
          "base_uri": "https://localhost:8080/"
        },
        "id": "6BIScWxi7XQ0",
        "outputId": "9c5cf0da-5288-4f91-ea71-f7c66a4c0cfc"
      },
      "execution_count": 52,
      "outputs": [
        {
          "output_type": "stream",
          "name": "stdout",
          "text": [
            "              precision    recall  f1-score   support\n",
            "\n",
            "         0.0       0.74      0.62      0.68      1605\n",
            "         1.0       0.82      0.89      0.86      3181\n",
            "\n",
            "    accuracy                           0.80      4786\n",
            "   macro avg       0.78      0.76      0.77      4786\n",
            "weighted avg       0.80      0.80      0.80      4786\n",
            "\n"
          ]
        }
      ]
    },
    {
      "cell_type": "markdown",
      "source": [
        "Logistic Regression uses a 0.5 threshold by default. We can adjust this threshold depending on business needs. In this case, we choose a threshold were recall and precision are balanced."
      ],
      "metadata": {
        "id": "QSAeHSNjkbW1"
      }
    },
    {
      "cell_type": "code",
      "source": [
        "# Calculate precision, recall, and thresholds\n",
        "precisions, recalls, thresholds = precision_recall_curve(y_test, y_pred_proba)\n",
        "\n",
        "# Find the intersection point where precision equals recall\n",
        "differences = np.abs(precisions[:-1] - recalls[:-1])  # Exclude the last threshold\n",
        "intersection_index = np.argmin(differences)  # Index of the closest point\n",
        "intersection_threshold = thresholds[intersection_index]\n",
        "\n",
        "# Intersection point\n",
        "print(f\"Intersection Threshold: {intersection_threshold:.4f}\")\n",
        "print(f\"Precision: {precisions[intersection_index]:.4f}, Recall: {recalls[intersection_index]:.4f}\")\n",
        "\n",
        "# Plot the curves\n",
        "plt.plot(thresholds, precisions[:-1], label=\"Precision\")\n",
        "plt.plot(thresholds, recalls[:-1], label=\"Recall\")\n",
        "plt.axvline(x=intersection_threshold, color=\"red\", linestyle=\"--\", label=\"Intersection\")\n",
        "plt.xlabel(\"Threshold\")\n",
        "plt.ylabel(\"Score\")\n",
        "plt.legend()\n",
        "plt.title(\"Precision-Recall Curve with Intersection\")\n",
        "plt.show()\n"
      ],
      "metadata": {
        "colab": {
          "base_uri": "https://localhost:8080/",
          "height": 0
        },
        "id": "TyfOhiTcO7k7",
        "outputId": "7ac74267-7e3b-402e-8940-302070bb052b"
      },
      "execution_count": 53,
      "outputs": [
        {
          "output_type": "stream",
          "name": "stdout",
          "text": [
            "Intersection Threshold: 0.5697\n",
            "Precision: 0.8463, Recall: 0.8463\n"
          ]
        },
        {
          "output_type": "display_data",
          "data": {
            "text/plain": [
              "<Figure size 640x480 with 1 Axes>"
            ],
            "image/png": "[encoded data removed]"
          },
          "metadata": {}
        }
      ]
    },
    {
      "cell_type": "code",
      "source": [
        "threshold = intersection_threshold\n",
        "y_pred = (y_pred_proba >= threshold).astype(int)\n",
        "print(classification_report(y_test, y_pred))\n",
        "\n",
        "precision = precision_score(y_test, y_pred)\n",
        "recall = recall_score(y_test, y_pred)\n",
        "f1 = f1_score(y_test, y_pred)\n",
        "\n",
        "print(f\"Precision: {precision:.2f}\")\n",
        "print(f\"Recall: {recall:.2f}\")\n",
        "print(f\"F1-Score: {f1:.2f}\")"
      ],
      "metadata": {
        "colab": {
          "base_uri": "https://localhost:8080/"
        },
        "id": "GgG2gj-fDl9_",
        "outputId": "aad22e0a-beff-4e6c-d915-387137539475"
      },
      "execution_count": 54,
      "outputs": [
        {
          "output_type": "stream",
          "name": "stdout",
          "text": [
            "              precision    recall  f1-score   support\n",
            "\n",
            "         0.0       0.70      0.70      0.70      1605\n",
            "         1.0       0.85      0.85      0.85      3181\n",
            "\n",
            "    accuracy                           0.80      4786\n",
            "   macro avg       0.77      0.77      0.77      4786\n",
            "weighted avg       0.80      0.80      0.80      4786\n",
            "\n",
            "Precision: 0.85\n",
            "Recall: 0.85\n",
            "F1-Score: 0.85\n"
          ]
        }
      ]
    },
    {
      "cell_type": "markdown",
      "source": [
        "# Evaluation"
      ],
      "metadata": {
        "id": "6dEcpHixk4ZN"
      }
    },
    {
      "cell_type": "code",
      "source": [
        "y_eval = eval_data['aprv_flag']  # Target variable\n",
        "X_eval = eval_data.drop(columns=['aprv_flag'])  # Drop target column\n",
        "\n",
        "# Apply the same preprocessing pipeline to evaluation data\n",
        "X_eval_encoded = pd.get_dummies(X_eval, columns=categorical_cols, drop_first=True)\n",
        "X_eval_encoded = X_eval_encoded.reindex(columns=X_encoded.columns, fill_value=0)\n",
        "X_eval_imputed = mice_imputer.transform(X_eval_encoded)\n",
        "X_eval_scaled = scaler.transform(X_eval_imputed)"
      ],
      "metadata": {
        "id": "MZwdU3qa8Lyh",
        "colab": {
          "base_uri": "https://localhost:8080/"
        },
        "outputId": "676613ff-5958-4eca-985b-e1441e0f17d9"
      },
      "execution_count": 55,
      "outputs": [
        {
          "output_type": "stream",
          "name": "stderr",
          "text": [
            "/usr/local/lib/python3.10/dist-packages/sklearn/base.py:493: UserWarning: X does not have valid feature names, but StandardScaler was fitted with feature names\n",
            "  warnings.warn(\n"
          ]
        }
      ]
    },
    {
      "cell_type": "code",
      "source": [
        "y_eval_proba = final_model.predict_proba(X_eval_scaled)[:, 1]\n",
        "\n",
        "# Apply the custom threshold to generate binary predictions\n",
        "custom_threshold = intersection_threshold\n",
        "y_eval_pred_custom = (y_eval_proba >= custom_threshold).astype(int)\n",
        "\n",
        "# Calculate accuracy with the custom threshold\n",
        "eval_accuracy_custom = accuracy_score(y_eval, y_eval_pred_custom)\n",
        "print(f\"Evaluation Accuracy with Custom Threshold: {eval_accuracy_custom:.4f}\")\n",
        "eval_auroc = roc_auc_score(y_eval, y_eval_proba)\n",
        "print(f\"Evaluation AUROC: {eval_auroc:.4f}\")"
      ],
      "metadata": {
        "colab": {
          "base_uri": "https://localhost:8080/"
        },
        "id": "9u_-w9jHrJ8_",
        "outputId": "a4989bab-39f4-4c6f-d445-c2f357643855"
      },
      "execution_count": 56,
      "outputs": [
        {
          "output_type": "stream",
          "name": "stdout",
          "text": [
            "Evaluation Accuracy with Custom Threshold: 0.7909\n",
            "Evaluation AUROC: 0.8334\n"
          ]
        },
        {
          "output_type": "stream",
          "name": "stderr",
          "text": [
            "/usr/local/lib/python3.10/dist-packages/sklearn/base.py:493: UserWarning: X does not have valid feature names, but LogisticRegression was fitted with feature names\n",
            "  warnings.warn(\n"
          ]
        }
      ]
    },
    {
      "cell_type": "markdown",
      "source": [
        "Evaluation on Minority Class"
      ],
      "metadata": {
        "id": "7Jb1j4ecnz2h"
      }
    },
    {
      "cell_type": "code",
      "source": [
        "custom_threshold = intersection_threshold\n",
        "y_eval_pred_custom = (y_eval_proba >= custom_threshold).astype(int)\n",
        "\n",
        "minority_class = 0\n",
        "minority_indices = (y_eval == minority_class)\n",
        "y_eval_minority = y_eval[minority_indices]\n",
        "y_eval_pred_minority = y_eval_pred_custom[minority_indices]\n",
        "\n",
        "accuracy_minority = (y_eval_minority == y_eval_pred_minority).mean()\n",
        "print(f\"Accuracy for the Minority Class: {accuracy_minority:.2%}\")"
      ],
      "metadata": {
        "colab": {
          "base_uri": "https://localhost:8080/"
        },
        "id": "MP0YM7LJn4Nt",
        "outputId": "d3fe59c0-d8ca-4257-be16-8e29c81c3c18"
      },
      "execution_count": 57,
      "outputs": [
        {
          "output_type": "stream",
          "name": "stdout",
          "text": [
            "Accuracy for the Minority Class: 67.26%\n"
          ]
        }
      ]
    },
    {
      "cell_type": "code",
      "source": [
        "precision_minority = precision_score(y_eval, y_eval_pred_custom, pos_label=minority_class)\n",
        "recall_minority = recall_score(y_eval, y_eval_pred_custom, pos_label=minority_class)\n",
        "f1_minority = f1_score(y_eval, y_eval_pred_custom, pos_label=minority_class)\n",
        "\n",
        "print(f\"Precision for Minority Class: {precision_minority:.2%}\")\n",
        "print(f\"Recall for Minority Class: {recall_minority:.2%}\")\n",
        "print(f\"F1-Score for Minority Class: {f1_minority:.2%}\")"
      ],
      "metadata": {
        "colab": {
          "base_uri": "https://localhost:8080/"
        },
        "id": "V7Bxprl9qwMC",
        "outputId": "5ed17ae9-4e1e-4e42-d165-4ec3662e51f2"
      },
      "execution_count": 58,
      "outputs": [
        {
          "output_type": "stream",
          "name": "stdout",
          "text": [
            "Precision for Minority Class: 58.29%\n",
            "Recall for Minority Class: 67.26%\n",
            "F1-Score for Minority Class: 62.45%\n"
          ]
        }
      ]
    },
    {
      "cell_type": "markdown",
      "source": [
        "# Question 1\n",
        "\n",
        "*   Q: Suppose an applicant is rejected by our model, how would we explain why?\n",
        "\n",
        "*   A: SHAP values decompose the prediction for an individual into contributions from each feature, helping us explain why the model made a specific decision.\n",
        "\n",
        "\n"
      ],
      "metadata": {
        "id": "dP9RFyE5k7Il"
      }
    },
    {
      "cell_type": "code",
      "source": [
        "explainer = shap.LinearExplainer(final_model, X_train, feature_perturbation=\"interventional\")\n",
        "\n",
        "# Calculate SHAP values for the validation set\n",
        "shap_values = explainer.shap_values(X_test)\n",
        "\n",
        "#Summary Plot for Feature Importance\n",
        "shap.summary_plot(shap_values, X_test, feature_names=X_encoded.columns, plot_type=\"bar\")"
      ],
      "metadata": {
        "colab": {
          "base_uri": "https://localhost:8080/",
          "height": 0
        },
        "id": "2li6mzjBPN-n",
        "outputId": "7e7f52b8-ee08-4056-dad2-92cc8c98394a"
      },
      "execution_count": 59,
      "outputs": [
        {
          "output_type": "stream",
          "name": "stderr",
          "text": [
            "/usr/local/lib/python3.10/dist-packages/shap/explainers/_linear.py:95: FutureWarning: The feature_perturbation option is now deprecated in favor of using the appropriate masker (maskers.Independent, maskers.Partition or maskers.Impute).\n",
            "  warnings.warn(wmsg, FutureWarning)\n"
          ]
        },
        {
          "output_type": "display_data",
          "data": {
            "text/plain": [
              "<Figure size 800x950 with 1 Axes>"
            ],
            "image/png": "[encoded data removed]"
          },
          "metadata": {}
        }
      ]
    },
    {
      "cell_type": "markdown",
      "source": [
        "# Q2\n",
        "\n",
        "\n",
        "1.   Q: Do female customers have a lower approval rate in our model?\n",
        "2.   A: In our model, female customers do have a lower approval rate, though the results are not statistically significant.\n",
        "\n"
      ],
      "metadata": {
        "id": "OS9kkT6ilm63"
      }
    },
    {
      "cell_type": "code",
      "source": [
        "female_data = train_data[train_data['Gender'] == 'Female']\n",
        "female_labels = female_data['aprv_flag']\n",
        "female_features = female_data.drop(columns=['aprv_flag'])\n",
        "female_features_encoded = pd.get_dummies(female_features, columns=categorical_cols, drop_first=True)\n",
        "\n",
        "male_data = train_data[train_data['Gender'] == 'Male']\n",
        "male_labels = male_data['aprv_flag']\n",
        "male_features = male_data.drop(columns=['aprv_flag'])\n",
        "male_features_encoded = pd.get_dummies(male_features, columns=categorical_cols, drop_first=True)\n",
        "\n",
        "overall_features = train_data.drop(columns=['aprv_flag'])\n",
        "overall_labels = train_data['aprv_flag']\n",
        "overall_features_encoded = pd.get_dummies(overall_features, columns=categorical_cols, drop_first=True)"
      ],
      "metadata": {
        "id": "ubomgyDkXvEs"
      },
      "execution_count": 60,
      "outputs": []
    },
    {
      "cell_type": "code",
      "source": [
        "def align_columns(data, reference_columns):\n",
        "    for col in reference_columns:\n",
        "        if col not in data:\n",
        "            data[col] = 0\n",
        "    return data\n",
        "\n",
        "# Align columns for all datasets\n",
        "for dataset in [female_features_encoded, male_features_encoded, overall_features_encoded]:\n",
        "    dataset = align_columns(dataset, encoded_column_names)"
      ],
      "metadata": {
        "id": "Wj4lDLK1bOfE"
      },
      "execution_count": 61,
      "outputs": []
    },
    {
      "cell_type": "code",
      "source": [
        "female_features_encoded = female_features_encoded[encoded_column_names]\n",
        "female_features_imputed = mice_imputer.transform(female_features_encoded)\n",
        "female_features_scaled = scaler.transform(female_features_imputed)\n",
        "\n",
        "male_features_encoded = male_features_encoded[encoded_column_names]\n",
        "male_features_imputed = mice_imputer.transform(male_features_encoded)\n",
        "male_features_scaled = scaler.transform(male_features_imputed)\n",
        "\n",
        "overall_features_encoded = overall_features_encoded[encoded_column_names]\n",
        "overall_features_imputed = mice_imputer.transform(overall_features_encoded)\n",
        "overall_features_scaled = scaler.transform(overall_features_imputed)"
      ],
      "metadata": {
        "id": "3S9zZqUjTgaT",
        "colab": {
          "base_uri": "https://localhost:8080/"
        },
        "outputId": "74028425-bff7-4325-d5b5-42d62f33e809"
      },
      "execution_count": 62,
      "outputs": [
        {
          "output_type": "stream",
          "name": "stderr",
          "text": [
            "/usr/local/lib/python3.10/dist-packages/sklearn/base.py:493: UserWarning: X does not have valid feature names, but StandardScaler was fitted with feature names\n",
            "  warnings.warn(\n",
            "/usr/local/lib/python3.10/dist-packages/sklearn/base.py:493: UserWarning: X does not have valid feature names, but StandardScaler was fitted with feature names\n",
            "  warnings.warn(\n",
            "/usr/local/lib/python3.10/dist-packages/sklearn/base.py:493: UserWarning: X does not have valid feature names, but StandardScaler was fitted with feature names\n",
            "  warnings.warn(\n"
          ]
        }
      ]
    },
    {
      "cell_type": "code",
      "source": [
        "female_pred_proba = final_model.predict_proba(female_features_scaled)[:, 1]\n",
        "female_pred = (female_pred_proba >= intersection_threshold).astype(int)\n",
        "\n",
        "male_pred_proba = final_model.predict_proba(male_features_scaled)[:, 1]\n",
        "male_pred = (male_pred_proba >= intersection_threshold).astype(int)\n",
        "\n",
        "overall_pred_proba = final_model.predict_proba(overall_features_scaled)[:, 1]\n",
        "overall_pred = (overall_pred_proba >= intersection_threshold).astype(int)"
      ],
      "metadata": {
        "colab": {
          "base_uri": "https://localhost:8080/"
        },
        "id": "7ACQ5YC6brUU",
        "outputId": "448e0f7e-28f3-4ef4-c5b9-78645663a8fb"
      },
      "execution_count": 63,
      "outputs": [
        {
          "output_type": "stream",
          "name": "stderr",
          "text": [
            "/usr/local/lib/python3.10/dist-packages/sklearn/base.py:493: UserWarning: X does not have valid feature names, but LogisticRegression was fitted with feature names\n",
            "  warnings.warn(\n",
            "/usr/local/lib/python3.10/dist-packages/sklearn/base.py:493: UserWarning: X does not have valid feature names, but LogisticRegression was fitted with feature names\n",
            "  warnings.warn(\n",
            "/usr/local/lib/python3.10/dist-packages/sklearn/base.py:493: UserWarning: X does not have valid feature names, but LogisticRegression was fitted with feature names\n",
            "  warnings.warn(\n"
          ]
        }
      ]
    },
    {
      "cell_type": "code",
      "source": [
        "approval_rate_female = (female_pred == 1).mean()\n",
        "print(f\"Model Approval Rate for Females: {approval_rate_female:.2%}\")\n",
        "approval_rate_male = (male_pred == 1).mean()\n",
        "print(f\"Model Approval Rate for Males: {approval_rate_male:.2%}\")\n",
        "approval_rate_overall = (overall_pred == 1).mean()\n",
        "print(f\"Overall Model Approval Rate: {approval_rate_overall:.2%}\")"
      ],
      "metadata": {
        "colab": {
          "base_uri": "https://localhost:8080/"
        },
        "id": "lErYnpYXb4w9",
        "outputId": "69bdc17d-aebb-4213-9c85-202302373b2c"
      },
      "execution_count": 64,
      "outputs": [
        {
          "output_type": "stream",
          "name": "stdout",
          "text": [
            "Model Approval Rate for Females: 68.97%\n",
            "Model Approval Rate for Males: 70.11%\n",
            "Overall Model Approval Rate: 70.86%\n"
          ]
        }
      ]
    },
    {
      "cell_type": "markdown",
      "source": [
        "We choose to perform $Z$-test over chi-squared testing, as it is more geniune to compare female vs male approval rates as our hypothesis, moreso than female vs all, since the original dataset has an undefined entry for gender (could be either)."
      ],
      "metadata": {
        "id": "uZvUe_oll8rS"
      }
    },
    {
      "cell_type": "code",
      "source": [
        "from statsmodels.stats.proportion import proportions_ztest\n",
        "\n",
        "# Total approvals for females and males\n",
        "female_approvals = (female_pred == 1).sum()\n",
        "male_approvals = (male_pred == 1).sum()\n",
        "\n",
        "# Total observations for females and males\n",
        "female_total = len(female_pred)\n",
        "male_total = len(male_pred)\n",
        "\n",
        "# Perform the two-proportion Z-test\n",
        "count = [female_approvals, male_approvals]\n",
        "nobs = [female_total, male_total]\n",
        "stat, p_value = proportions_ztest(count, nobs)\n",
        "\n",
        "# Output results\n",
        "print(f\"Z-Statistic: {stat:.4f}, p-value: {p_value:.4f}\")\n",
        "if p_value < 0.05:\n",
        "    print(\"The difference in approval rates is statistically significant.\")\n",
        "else:\n",
        "    print(\"The difference in approval rates is not statistically significant.\")\n"
      ],
      "metadata": {
        "colab": {
          "base_uri": "https://localhost:8080/"
        },
        "id": "foMCtZMrf0pX",
        "outputId": "03c952c6-297b-4d2f-b7b6-b747ef987823"
      },
      "execution_count": 65,
      "outputs": [
        {
          "output_type": "stream",
          "name": "stdout",
          "text": [
            "Z-Statistic: -1.7579, p-value: 0.0788\n",
            "The difference in approval rates is not statistically significant.\n"
          ]
        }
      ]
    }
  ]
}